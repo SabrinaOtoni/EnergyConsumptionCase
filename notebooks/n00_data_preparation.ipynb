{
 "cells": [
  {
   "cell_type": "markdown",
   "metadata": {},
   "source": [
    "# PJM Hourly Energy Consumption Case\n",
    "\n",
    "PJM Interconnection LLC (PJM) is a regional transmission organization (RTO) in the United States. It is part of the Eastern Interconnection grid operating an electric transmission system serving all or parts of Delaware, Illinois, Indiana, Kentucky, Maryland, Michigan, New Jersey, North Carolina, Ohio, Pennsylvania, Tennessee, Virginia, West Virginia, and the District of Columbia.\n",
    "\n",
    "The hourly power consumption data comes from PJM's website and are in megawatts (MW)."
   ]
  },
  {
   "cell_type": "markdown",
   "metadata": {},
   "source": [
    "### Data Preparation Step - By Sabrina Otoni da Silva - 2024/04"
   ]
  },
  {
   "cell_type": "code",
   "execution_count": 1,
   "metadata": {},
   "outputs": [],
   "source": [
    "from pathlib import Path\n",
    "#from glob import glob\n",
    "import numpy as np\n",
    "import pandas as pd"
   ]
  },
  {
   "cell_type": "code",
   "execution_count": 2,
   "metadata": {},
   "outputs": [],
   "source": [
    "import warnings\n",
    "warnings.filterwarnings('ignore')"
   ]
  },
  {
   "cell_type": "code",
   "execution_count": 3,
   "metadata": {},
   "outputs": [],
   "source": [
    "rawpath = Path('../data/d01_raw')\n",
    "#csv_files = glob(str(rawpath) + \"/*.csv\")\n",
    "#dataframes = {csv_file: pd.read_csv(csv_file) for csv_file in csv_files}"
   ]
  },
  {
   "cell_type": "code",
   "execution_count": 4,
   "metadata": {},
   "outputs": [],
   "source": [
    "# for i in range(len(dataframes)):\n",
    "#     df = dataframes[csv_files[i]]\n",
    "#     locals()[f\"df{i+1}\"] = df\n",
    "#     print(locals()[f\"df{i+1}\"].head())\n",
    "#     print(locals()[f\"df{i+1}\"].info())\n",
    "#     print('----------------------')"
   ]
  },
  {
   "cell_type": "code",
   "execution_count": 5,
   "metadata": {},
   "outputs": [],
   "source": [
    "# datapath = Path('../data/d02_intermediate')\n",
    "# df0 = None\n",
    "\n",
    "# for i in range(len(dataframes)):\n",
    "#     locals()[f\"df{i+1}\"][\"Datetime\"] = pd.to_datetime(locals()[f\"df{i+1}\"][\"Datetime\"])\n",
    "\n",
    "#     if not locals()[f\"df{i+1}\"][\"Datetime\"].is_monotonic_increasing:\n",
    "#         locals()[f\"df{i+1}\"].sort_values(by=\"Datetime\", inplace=True)\n",
    "#         #locals()[f\"df{i+1}\"].to_csv(f'{datapath}/{[f\"df{i+1}\"]}.csv', index=False)"
   ]
  },
  {
   "cell_type": "code",
   "execution_count": 6,
   "metadata": {},
   "outputs": [],
   "source": [
    "# all_df = pd.merge_asof(df1, df2, on=\"Datetime\")\n",
    "# for i in range(3, 12):\n",
    "#     all_df = pd.merge_asof(all_df, locals()[f\"df{i+1}\"], on=\"Datetime\" )"
   ]
  },
  {
   "cell_type": "code",
   "execution_count": 7,
   "metadata": {},
   "outputs": [],
   "source": [
    "df = pd.read_csv(f'{rawpath}/PJME_hourly.csv')\n",
    "df.columns = [x.lower() for x in df.columns]"
   ]
  },
  {
   "cell_type": "code",
   "execution_count": 8,
   "metadata": {},
   "outputs": [],
   "source": [
    "df[\"datetime\"] = pd.to_datetime(df[\"datetime\"])\n",
    "df.sort_values(by=\"datetime\", inplace=True, ignore_index=True)\n",
    "df.set_index('datetime', inplace=True)"
   ]
  },
  {
   "cell_type": "code",
   "execution_count": 9,
   "metadata": {},
   "outputs": [],
   "source": [
    "def validate_decimals(value):\n",
    "  _, decimal_part = str(value).split(\".\")\n",
    "  return any(char != \"0\" for char in decimal_part)"
   ]
  },
  {
   "cell_type": "code",
   "execution_count": 10,
   "metadata": {},
   "outputs": [],
   "source": [
    "if (df['pjme_mw'].apply(validate_decimals).sum() == 0):\n",
    "    df['pjme_mw'] = df['pjme_mw'].astype(np.int64)\n",
    "else: \n",
    "    df['pjme_mw'].apply(validate_decimals).sum()"
   ]
  },
  {
   "cell_type": "code",
   "execution_count": 11,
   "metadata": {},
   "outputs": [],
   "source": [
    "intermediate_path = Path('../data/d02_intermediate')\n",
    "df.to_csv(f'{intermediate_path}/pjme_n00.csv')"
   ]
  }
 ],
 "metadata": {
  "kernelspec": {
   "display_name": "base",
   "language": "python",
   "name": "python3"
  },
  "language_info": {
   "codemirror_mode": {
    "name": "ipython",
    "version": 3
   },
   "file_extension": ".py",
   "mimetype": "text/x-python",
   "name": "python",
   "nbconvert_exporter": "python",
   "pygments_lexer": "ipython3",
   "version": "3.11.4"
  }
 },
 "nbformat": 4,
 "nbformat_minor": 2
}
