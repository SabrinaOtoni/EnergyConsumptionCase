{
 "cells": [
  {
   "cell_type": "markdown",
   "metadata": {},
   "source": [
    "# PJM Hourly Energy Consumption Case\n",
    "\n",
    "PJM Interconnection LLC (PJM) is a regional transmission organization (RTO) in the United States. It is part of the Eastern Interconnection grid operating an electric transmission system serving all or parts of Delaware, Illinois, Indiana, Kentucky, Maryland, Michigan, New Jersey, North Carolina, Ohio, Pennsylvania, Tennessee, Virginia, West Virginia, and the District of Columbia.\n",
    "\n",
    "The hourly power consumption data comes from PJM's website and are in megawatts (MW)."
   ]
  },
  {
   "cell_type": "markdown",
   "metadata": {},
   "source": [
    "### XGBoost Training Step - By Sabrina Otoni da Silva - 2024/04"
   ]
  },
  {
   "cell_type": "code",
   "execution_count": null,
   "metadata": {},
   "outputs": [],
   "source": [
    "from pathlib import Path\n",
    "\n",
    "import numpy as np\n",
    "import pandas as pd\n",
    "\n",
    "from sklearn.model_selection import TimeSeriesSplit, GridSearchCV\n",
    "from sklearn.metrics import mean_squared_error, r2_score, mean_absolute_error, mean_absolute_percentage_error\n",
    "\n",
    "import xgboost as xgb"
   ]
  },
  {
   "cell_type": "code",
   "execution_count": null,
   "metadata": {},
   "outputs": [],
   "source": [
    "datapath = Path('../data/d02_intermediate')"
   ]
  },
  {
   "cell_type": "code",
   "execution_count": null,
   "metadata": {},
   "outputs": [],
   "source": [
    "df = pd.read_csv(f'{datapath}/pjme_n03.csv')\n",
    "df = df.set_index('datetime')\n",
    "df.index = pd.to_datetime(df.index)\n",
    "df = df.sort_index()"
   ]
  },
  {
   "cell_type": "code",
   "execution_count": null,
   "metadata": {},
   "outputs": [],
   "source": [
    "x = df[['hour', 'dayofweek', 'quarter', 'month', 'year', 'dayofyear', 'day', 'weekofyear', 'lag1', 'lag2', 'lag3']]\n",
    "y = df['pjme_mw']"
   ]
  },
  {
   "cell_type": "code",
   "execution_count": null,
   "metadata": {},
   "outputs": [],
   "source": [
    "tss = TimeSeriesSplit(n_splits=5, test_size=24*365*1, gap=24)"
   ]
  },
  {
   "cell_type": "code",
   "execution_count": null,
   "metadata": {},
   "outputs": [],
   "source": [
    "# grid_params = {'n_estimators': [int(x) for x in np.linspace(200, 1000, 3)],\n",
    "#               'max_depth': [int(x) for x in np.linspace(5, 55, 11)],\n",
    "#               'max_features': ['auto', 'sqrt', 'log2'],\n",
    "#               'random_state': [42]\n",
    "#               }\n",
    "# refit = True  # Refit an estimator using the best found parameters on the whole dataset\n",
    "# scoring = 'neg_mean_squared_error'  # Strategy to evaluate the performance of the cross-validated model on the test set\n",
    "# n_jobs = -1  # Number of jobs to run in parallel\n",
    "# tscv = TimeSeriesSplit(n_splits=5)\n",
    "\n",
    "# grid_search = GridSearchCV(estimator=model, param_grid=grid_params, refit=refit,\n",
    "#                            scoring=scoring, cv=tscv, n_jobs=n_jobs).fit(X, y)\n",
    "# print(f'Model: {model} best params are: {grid_search.best_params_}')"
   ]
  },
  {
   "cell_type": "code",
   "execution_count": null,
   "metadata": {},
   "outputs": [],
   "source": [
    "# grid_search = GridSearchCV(estimator=, param_grid=, cv=tss, \n",
    "#                            scoring='roc_auc', verbose=2, error_score=\"raise\")\n",
    "# grid_search.fit(X_train, y_train)"
   ]
  },
  {
   "cell_type": "code",
   "execution_count": null,
   "metadata": {},
   "outputs": [],
   "source": [
    "preds = []\n",
    "scores = []\n",
    "\n",
    "for train_idx, test_idx in tss.split(df):\n",
    "    train = df.iloc[train_idx]\n",
    "    test = df.iloc[test_idx]\n",
    "\n",
    "    X_train = train[x]\n",
    "    y_train = train[y]\n",
    "\n",
    "    X_test = test[x]\n",
    "    y_test = test[y]\n",
    "\n",
    "    reg = xgb.XGBRegressor(base_score=0.5,\n",
    "                           booster='gbtree',\n",
    "                           n_estimators=1_000,\n",
    "                           early_stopping_rounds=50,\n",
    "                           objective='reg:squarederror',\n",
    "                           max_depth=3,\n",
    "                           learning_rate=0.01)\n",
    "    \n",
    "    reg.fit(X_train, y_train,\n",
    "            eval_set=[(X_train, y_train), (X_test, y_test)],\n",
    "            verbose=100)\n",
    "    \n",
    "    y_pred = reg.predict(X_test)\n",
    "    preds.append(y_pred)\n",
    "\n",
    "    score = np.sqrt(mean_squared_error(y_test, y_pred))\n",
    "    scores.append(score)"
   ]
  },
  {
   "cell_type": "code",
   "execution_count": null,
   "metadata": {},
   "outputs": [],
   "source": [
    "print(f'Score across folds: {np.mean(scores):0.4f}')\n",
    "print(f'Fold scores: {scores}')"
   ]
  }
 ],
 "metadata": {
  "kernelspec": {
   "display_name": "base",
   "language": "python",
   "name": "python3"
  },
  "language_info": {
   "name": "python",
   "version": "3.11.4"
  }
 },
 "nbformat": 4,
 "nbformat_minor": 2
}
