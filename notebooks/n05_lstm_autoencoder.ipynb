{
 "cells": [
  {
   "cell_type": "markdown",
   "metadata": {},
   "source": [
    "# PJM Hourly Energy Consumption Case\n",
    "\n",
    "PJM Interconnection LLC (PJM) is a regional transmission organization (RTO) in the United States. It is part of the Eastern Interconnection grid operating an electric transmission system serving all or parts of Delaware, Illinois, Indiana, Kentucky, Maryland, Michigan, New Jersey, North Carolina, Ohio, Pennsylvania, Tennessee, Virginia, West Virginia, and the District of Columbia.\n",
    "\n",
    "The hourly power consumption data comes from PJM's website and are in megawatts (MW)."
   ]
  },
  {
   "cell_type": "markdown",
   "metadata": {},
   "source": [
    "### LSTM Autoencoder Training Step - By Sabrina Otoni da Silva - 2024/04"
   ]
  },
  {
   "cell_type": "code",
   "execution_count": 27,
   "metadata": {},
   "outputs": [],
   "source": [
    "from pathlib import Path \n",
    "\n",
    "import numpy as np\n",
    "import pandas as pd\n",
    "\n",
    "import matplotlib.pyplot as plt\n",
    "\n",
    "from sklearn.preprocessing import StandardScaler\n",
    "from sklearn.model_selection import train_test_split\n",
    "\n",
    "import keras.layers as L\n",
    "from keras import Sequential, Model\n",
    "from keras.optimizers import Adam\n",
    "from keras.callbacks import EarlyStopping\n",
    "from keras_tuner import HyperModel, Hyperband\n",
    "\n",
    "import pickle\n",
    "\n",
    "import warnings\n",
    "warnings.filterwarnings('ignore')"
   ]
  },
  {
   "cell_type": "code",
   "execution_count": 28,
   "metadata": {},
   "outputs": [],
   "source": [
    "datapath = Path('../data/d02_intermediate')\n",
    "modelpath = Path('../model')"
   ]
  },
  {
   "cell_type": "code",
   "execution_count": 29,
   "metadata": {},
   "outputs": [],
   "source": [
    "df = pd.read_csv(f'{datapath}/pjme_train.csv')\n",
    "df.set_index('datetime', inplace=True)\n",
    "df.index = pd.to_datetime(df.index)\n",
    "df.sort_index(inplace=True)\n",
    "df.dropna(axis=0, how='any', inplace=True)"
   ]
  },
  {
   "cell_type": "code",
   "execution_count": 30,
   "metadata": {},
   "outputs": [],
   "source": [
    "def temporalize(X, y, lookback):\n",
    "    '''\n",
    "    To convert input data into 3-D\n",
    "    array as required for LSTM network.\n",
    "    '''\n",
    "    output_X = []\n",
    "    output_y = []\n",
    "    for i in range(len(X)-lookback-1):\n",
    "        t = []\n",
    "        for j in range(1,lookback+1):\n",
    "            t.append(X[[(i+j+1)], :])\n",
    "        output_X.append(t)\n",
    "        output_y.append(y[i+lookback+1])\n",
    "        \n",
    "    return output_X, output_y"
   ]
  },
  {
   "cell_type": "code",
   "execution_count": 31,
   "metadata": {},
   "outputs": [],
   "source": [
    "def flatten(X):\n",
    "    '''\n",
    "    Flatten a 3D array.\n",
    "    Input\n",
    "    X - A 3D array for lstm, where the array is sample x timesteps x features.\n",
    "\n",
    "    Output\n",
    "    flattened_X - A 2D array, sample x features.\n",
    "    '''\n",
    "    flattened_X = np.empty((X.shape[0], X.shape[2]))  # Sample x features array.\n",
    "    for i in range(X.shape[0]):\n",
    "        flattened_X[i] = X[i, (X.shape[1]-1), :]\n",
    "    return(flattened_X)\n",
    "\n",
    "def scale(X, scaler):\n",
    "    '''\n",
    "    Scale 3D array.\n",
    "    Inputs\n",
    "    X - A 3D array for lstm, where the array is sample x timesteps x features.\n",
    "    scaler - A scaler object, e.g., sklearn.preprocessing.StandardScaler, sklearn.preprocessing.normalize\n",
    "    \n",
    "    Output\n",
    "    X - Scaled 3D array.\n",
    "    '''\n",
    "    for i in range(X.shape[0]):\n",
    "        X[i, :, :] = scaler.transform(X[i, :, :])\n",
    "        \n",
    "    return X"
   ]
  },
  {
   "cell_type": "code",
   "execution_count": 32,
   "metadata": {},
   "outputs": [],
   "source": [
    "n_features = df.shape[1] - 1\n",
    "timesteps = 24"
   ]
  },
  {
   "cell_type": "code",
   "execution_count": 33,
   "metadata": {},
   "outputs": [],
   "source": [
    "X_train, y_train = temporalize(X = np.array(df[['hour', 'dayofweek', 'quarter', 'month', 'year', 'dayofyear', 'day', 'weekofyear', 'lag1', 'lag2', 'lag3']]), \n",
    "                   y = np.array(df[['pjme_mw']]), \n",
    "                   lookback = timesteps)\n",
    "\n",
    "X_train = np.array(X_train)\n",
    "X_train = X_train.reshape(X_train.shape[0], timesteps, n_features)\n",
    "y_train = np.array(y_train)"
   ]
  },
  {
   "cell_type": "code",
   "execution_count": 8,
   "metadata": {},
   "outputs": [],
   "source": [
    "scaler_x = StandardScaler().fit(flatten(X_train))\n",
    "X_train = scale(X_train, scaler_x)"
   ]
  },
  {
   "cell_type": "code",
   "execution_count": 9,
   "metadata": {},
   "outputs": [],
   "source": [
    "train, valid, y_train, y_valid = train_test_split(X_train, y_train.values, test_size=0.10, shuffle=False)"
   ]
  },
  {
   "cell_type": "code",
   "execution_count": 15,
   "metadata": {},
   "outputs": [],
   "source": [
    "X_train = train\n",
    "X_valid = valid"
   ]
  },
  {
   "cell_type": "code",
   "execution_count": 10,
   "metadata": {},
   "outputs": [
    {
     "data": {
      "text/html": [
       "<pre style=\"white-space:pre;overflow-x:auto;line-height:normal;font-family:Menlo,'DejaVu Sans Mono',consolas,'Courier New',monospace\"><span style=\"font-weight: bold\">Model: \"sequential\"</span>\n",
       "</pre>\n"
      ],
      "text/plain": [
       "\u001b[1mModel: \"sequential\"\u001b[0m\n"
      ]
     },
     "metadata": {},
     "output_type": "display_data"
    },
    {
     "data": {
      "text/html": [
       "<pre style=\"white-space:pre;overflow-x:auto;line-height:normal;font-family:Menlo,'DejaVu Sans Mono',consolas,'Courier New',monospace\">┏━━━━━━━━━━━━━━━━━━━━━━━━━━━━━━━━━┳━━━━━━━━━━━━━━━━━━━━━━━━┳━━━━━━━━━━━━━━━┓\n",
       "┃<span style=\"font-weight: bold\"> Layer (type)                    </span>┃<span style=\"font-weight: bold\"> Output Shape           </span>┃<span style=\"font-weight: bold\">       Param # </span>┃\n",
       "┡━━━━━━━━━━━━━━━━━━━━━━━━━━━━━━━━━╇━━━━━━━━━━━━━━━━━━━━━━━━╇━━━━━━━━━━━━━━━┩\n",
       "│ lstm (<span style=\"color: #0087ff; text-decoration-color: #0087ff\">LSTM</span>)                     │ (<span style=\"color: #00d7ff; text-decoration-color: #00d7ff\">None</span>, <span style=\"color: #00af00; text-decoration-color: #00af00\">24</span>, <span style=\"color: #00af00; text-decoration-color: #00af00\">24</span>)         │         <span style=\"color: #00af00; text-decoration-color: #00af00\">3,456</span> │\n",
       "├─────────────────────────────────┼────────────────────────┼───────────────┤\n",
       "│ lstm_1 (<span style=\"color: #0087ff; text-decoration-color: #0087ff\">LSTM</span>)                   │ (<span style=\"color: #00d7ff; text-decoration-color: #00d7ff\">None</span>, <span style=\"color: #00af00; text-decoration-color: #00af00\">6</span>)              │           <span style=\"color: #00af00; text-decoration-color: #00af00\">744</span> │\n",
       "├─────────────────────────────────┼────────────────────────┼───────────────┤\n",
       "│ repeat_vector (<span style=\"color: #0087ff; text-decoration-color: #0087ff\">RepeatVector</span>)    │ (<span style=\"color: #00d7ff; text-decoration-color: #00d7ff\">None</span>, <span style=\"color: #00af00; text-decoration-color: #00af00\">24</span>, <span style=\"color: #00af00; text-decoration-color: #00af00\">6</span>)          │             <span style=\"color: #00af00; text-decoration-color: #00af00\">0</span> │\n",
       "├─────────────────────────────────┼────────────────────────┼───────────────┤\n",
       "│ lstm_2 (<span style=\"color: #0087ff; text-decoration-color: #0087ff\">LSTM</span>)                   │ (<span style=\"color: #00d7ff; text-decoration-color: #00d7ff\">None</span>, <span style=\"color: #00af00; text-decoration-color: #00af00\">24</span>, <span style=\"color: #00af00; text-decoration-color: #00af00\">6</span>)          │           <span style=\"color: #00af00; text-decoration-color: #00af00\">312</span> │\n",
       "├─────────────────────────────────┼────────────────────────┼───────────────┤\n",
       "│ lstm_3 (<span style=\"color: #0087ff; text-decoration-color: #0087ff\">LSTM</span>)                   │ (<span style=\"color: #00d7ff; text-decoration-color: #00d7ff\">None</span>, <span style=\"color: #00af00; text-decoration-color: #00af00\">24</span>, <span style=\"color: #00af00; text-decoration-color: #00af00\">24</span>)         │         <span style=\"color: #00af00; text-decoration-color: #00af00\">2,976</span> │\n",
       "├─────────────────────────────────┼────────────────────────┼───────────────┤\n",
       "│ time_distributed                │ (<span style=\"color: #00d7ff; text-decoration-color: #00d7ff\">None</span>, <span style=\"color: #00af00; text-decoration-color: #00af00\">24</span>, <span style=\"color: #00af00; text-decoration-color: #00af00\">1</span>)          │            <span style=\"color: #00af00; text-decoration-color: #00af00\">25</span> │\n",
       "│ (<span style=\"color: #0087ff; text-decoration-color: #0087ff\">TimeDistributed</span>)               │                        │               │\n",
       "└─────────────────────────────────┴────────────────────────┴───────────────┘\n",
       "</pre>\n"
      ],
      "text/plain": [
       "┏━━━━━━━━━━━━━━━━━━━━━━━━━━━━━━━━━┳━━━━━━━━━━━━━━━━━━━━━━━━┳━━━━━━━━━━━━━━━┓\n",
       "┃\u001b[1m \u001b[0m\u001b[1mLayer (type)                   \u001b[0m\u001b[1m \u001b[0m┃\u001b[1m \u001b[0m\u001b[1mOutput Shape          \u001b[0m\u001b[1m \u001b[0m┃\u001b[1m \u001b[0m\u001b[1m      Param #\u001b[0m\u001b[1m \u001b[0m┃\n",
       "┡━━━━━━━━━━━━━━━━━━━━━━━━━━━━━━━━━╇━━━━━━━━━━━━━━━━━━━━━━━━╇━━━━━━━━━━━━━━━┩\n",
       "│ lstm (\u001b[38;5;33mLSTM\u001b[0m)                     │ (\u001b[38;5;45mNone\u001b[0m, \u001b[38;5;34m24\u001b[0m, \u001b[38;5;34m24\u001b[0m)         │         \u001b[38;5;34m3,456\u001b[0m │\n",
       "├─────────────────────────────────┼────────────────────────┼───────────────┤\n",
       "│ lstm_1 (\u001b[38;5;33mLSTM\u001b[0m)                   │ (\u001b[38;5;45mNone\u001b[0m, \u001b[38;5;34m6\u001b[0m)              │           \u001b[38;5;34m744\u001b[0m │\n",
       "├─────────────────────────────────┼────────────────────────┼───────────────┤\n",
       "│ repeat_vector (\u001b[38;5;33mRepeatVector\u001b[0m)    │ (\u001b[38;5;45mNone\u001b[0m, \u001b[38;5;34m24\u001b[0m, \u001b[38;5;34m6\u001b[0m)          │             \u001b[38;5;34m0\u001b[0m │\n",
       "├─────────────────────────────────┼────────────────────────┼───────────────┤\n",
       "│ lstm_2 (\u001b[38;5;33mLSTM\u001b[0m)                   │ (\u001b[38;5;45mNone\u001b[0m, \u001b[38;5;34m24\u001b[0m, \u001b[38;5;34m6\u001b[0m)          │           \u001b[38;5;34m312\u001b[0m │\n",
       "├─────────────────────────────────┼────────────────────────┼───────────────┤\n",
       "│ lstm_3 (\u001b[38;5;33mLSTM\u001b[0m)                   │ (\u001b[38;5;45mNone\u001b[0m, \u001b[38;5;34m24\u001b[0m, \u001b[38;5;34m24\u001b[0m)         │         \u001b[38;5;34m2,976\u001b[0m │\n",
       "├─────────────────────────────────┼────────────────────────┼───────────────┤\n",
       "│ time_distributed                │ (\u001b[38;5;45mNone\u001b[0m, \u001b[38;5;34m24\u001b[0m, \u001b[38;5;34m1\u001b[0m)          │            \u001b[38;5;34m25\u001b[0m │\n",
       "│ (\u001b[38;5;33mTimeDistributed\u001b[0m)               │                        │               │\n",
       "└─────────────────────────────────┴────────────────────────┴───────────────┘\n"
      ]
     },
     "metadata": {},
     "output_type": "display_data"
    },
    {
     "data": {
      "text/html": [
       "<pre style=\"white-space:pre;overflow-x:auto;line-height:normal;font-family:Menlo,'DejaVu Sans Mono',consolas,'Courier New',monospace\"><span style=\"font-weight: bold\"> Total params: </span><span style=\"color: #00af00; text-decoration-color: #00af00\">7,513</span> (29.35 KB)\n",
       "</pre>\n"
      ],
      "text/plain": [
       "\u001b[1m Total params: \u001b[0m\u001b[38;5;34m7,513\u001b[0m (29.35 KB)\n"
      ]
     },
     "metadata": {},
     "output_type": "display_data"
    },
    {
     "data": {
      "text/html": [
       "<pre style=\"white-space:pre;overflow-x:auto;line-height:normal;font-family:Menlo,'DejaVu Sans Mono',consolas,'Courier New',monospace\"><span style=\"font-weight: bold\"> Trainable params: </span><span style=\"color: #00af00; text-decoration-color: #00af00\">7,513</span> (29.35 KB)\n",
       "</pre>\n"
      ],
      "text/plain": [
       "\u001b[1m Trainable params: \u001b[0m\u001b[38;5;34m7,513\u001b[0m (29.35 KB)\n"
      ]
     },
     "metadata": {},
     "output_type": "display_data"
    },
    {
     "data": {
      "text/html": [
       "<pre style=\"white-space:pre;overflow-x:auto;line-height:normal;font-family:Menlo,'DejaVu Sans Mono',consolas,'Courier New',monospace\"><span style=\"font-weight: bold\"> Non-trainable params: </span><span style=\"color: #00af00; text-decoration-color: #00af00\">0</span> (0.00 B)\n",
       "</pre>\n"
      ],
      "text/plain": [
       "\u001b[1m Non-trainable params: \u001b[0m\u001b[38;5;34m0\u001b[0m (0.00 B)\n"
      ]
     },
     "metadata": {},
     "output_type": "display_data"
    },
    {
     "name": "stdout",
     "output_type": "stream",
     "text": [
      "Epoch 1/100\n",
      "\u001b[1m801/801\u001b[0m \u001b[32m━━━━━━━━━━━━━━━━━━━━\u001b[0m\u001b[37m\u001b[0m \u001b[1m78s\u001b[0m 75ms/step - loss: 0.9192 - val_loss: 0.9941\n",
      "Epoch 2/100\n",
      "\u001b[1m801/801\u001b[0m \u001b[32m━━━━━━━━━━━━━━━━━━━━\u001b[0m\u001b[37m\u001b[0m \u001b[1m55s\u001b[0m 69ms/step - loss: 0.8265 - val_loss: 0.9900\n",
      "Epoch 3/100\n",
      "\u001b[1m801/801\u001b[0m \u001b[32m━━━━━━━━━━━━━━━━━━━━\u001b[0m\u001b[37m\u001b[0m \u001b[1m58s\u001b[0m 72ms/step - loss: 0.8167 - val_loss: 0.9854\n",
      "Epoch 4/100\n",
      "\u001b[1m801/801\u001b[0m \u001b[32m━━━━━━━━━━━━━━━━━━━━\u001b[0m\u001b[37m\u001b[0m \u001b[1m59s\u001b[0m 74ms/step - loss: 0.8081 - val_loss: 0.9822\n",
      "Epoch 5/100\n",
      "\u001b[1m801/801\u001b[0m \u001b[32m━━━━━━━━━━━━━━━━━━━━\u001b[0m\u001b[37m\u001b[0m \u001b[1m59s\u001b[0m 74ms/step - loss: 0.8054 - val_loss: 0.9786\n",
      "Epoch 6/100\n",
      "\u001b[1m801/801\u001b[0m \u001b[32m━━━━━━━━━━━━━━━━━━━━\u001b[0m\u001b[37m\u001b[0m \u001b[1m55s\u001b[0m 69ms/step - loss: 0.7995 - val_loss: 0.9752\n",
      "Epoch 7/100\n",
      "\u001b[1m801/801\u001b[0m \u001b[32m━━━━━━━━━━━━━━━━━━━━\u001b[0m\u001b[37m\u001b[0m \u001b[1m55s\u001b[0m 68ms/step - loss: 0.7937 - val_loss: 0.9691\n",
      "Epoch 8/100\n",
      "\u001b[1m801/801\u001b[0m \u001b[32m━━━━━━━━━━━━━━━━━━━━\u001b[0m\u001b[37m\u001b[0m \u001b[1m52s\u001b[0m 65ms/step - loss: 0.7870 - val_loss: 0.9640\n",
      "Epoch 9/100\n",
      "\u001b[1m801/801\u001b[0m \u001b[32m━━━━━━━━━━━━━━━━━━━━\u001b[0m\u001b[37m\u001b[0m \u001b[1m51s\u001b[0m 64ms/step - loss: 0.7817 - val_loss: 0.9578\n",
      "Epoch 10/100\n",
      "\u001b[1m801/801\u001b[0m \u001b[32m━━━━━━━━━━━━━━━━━━━━\u001b[0m\u001b[37m\u001b[0m \u001b[1m51s\u001b[0m 63ms/step - loss: 0.7764 - val_loss: 0.9534\n",
      "Epoch 11/100\n",
      "\u001b[1m801/801\u001b[0m \u001b[32m━━━━━━━━━━━━━━━━━━━━\u001b[0m\u001b[37m\u001b[0m \u001b[1m52s\u001b[0m 65ms/step - loss: 0.7741 - val_loss: 0.9500\n",
      "Epoch 12/100\n",
      "\u001b[1m801/801\u001b[0m \u001b[32m━━━━━━━━━━━━━━━━━━━━\u001b[0m\u001b[37m\u001b[0m \u001b[1m51s\u001b[0m 64ms/step - loss: 0.7699 - val_loss: 0.9470\n",
      "Epoch 13/100\n",
      "\u001b[1m801/801\u001b[0m \u001b[32m━━━━━━━━━━━━━━━━━━━━\u001b[0m\u001b[37m\u001b[0m \u001b[1m51s\u001b[0m 64ms/step - loss: 0.7681 - val_loss: 0.9448\n",
      "Epoch 14/100\n",
      "\u001b[1m801/801\u001b[0m \u001b[32m━━━━━━━━━━━━━━━━━━━━\u001b[0m\u001b[37m\u001b[0m \u001b[1m49s\u001b[0m 61ms/step - loss: 0.7653 - val_loss: 0.9430\n",
      "Epoch 15/100\n",
      "\u001b[1m801/801\u001b[0m \u001b[32m━━━━━━━━━━━━━━━━━━━━\u001b[0m\u001b[37m\u001b[0m \u001b[1m51s\u001b[0m 63ms/step - loss: 0.7646 - val_loss: 0.9416\n",
      "Epoch 16/100\n",
      "\u001b[1m801/801\u001b[0m \u001b[32m━━━━━━━━━━━━━━━━━━━━\u001b[0m\u001b[37m\u001b[0m \u001b[1m53s\u001b[0m 66ms/step - loss: 0.7643 - val_loss: 0.9401\n",
      "Epoch 17/100\n",
      "\u001b[1m801/801\u001b[0m \u001b[32m━━━━━━━━━━━━━━━━━━━━\u001b[0m\u001b[37m\u001b[0m \u001b[1m42s\u001b[0m 53ms/step - loss: 0.7633 - val_loss: 0.9390\n",
      "Epoch 18/100\n",
      "\u001b[1m801/801\u001b[0m \u001b[32m━━━━━━━━━━━━━━━━━━━━\u001b[0m\u001b[37m\u001b[0m \u001b[1m39s\u001b[0m 48ms/step - loss: 0.7609 - val_loss: 0.9378\n",
      "Epoch 19/100\n",
      "\u001b[1m801/801\u001b[0m \u001b[32m━━━━━━━━━━━━━━━━━━━━\u001b[0m\u001b[37m\u001b[0m \u001b[1m56s\u001b[0m 70ms/step - loss: 0.7604 - val_loss: 0.9372\n",
      "Epoch 20/100\n",
      "\u001b[1m801/801\u001b[0m \u001b[32m━━━━━━━━━━━━━━━━━━━━\u001b[0m\u001b[37m\u001b[0m \u001b[1m55s\u001b[0m 68ms/step - loss: 0.7590 - val_loss: 0.9364\n",
      "Epoch 21/100\n",
      "\u001b[1m801/801\u001b[0m \u001b[32m━━━━━━━━━━━━━━━━━━━━\u001b[0m\u001b[37m\u001b[0m \u001b[1m55s\u001b[0m 69ms/step - loss: 0.7608 - val_loss: 0.9356\n",
      "Epoch 22/100\n",
      "\u001b[1m801/801\u001b[0m \u001b[32m━━━━━━━━━━━━━━━━━━━━\u001b[0m\u001b[37m\u001b[0m \u001b[1m58s\u001b[0m 72ms/step - loss: 0.7573 - val_loss: 0.9351\n",
      "Epoch 23/100\n",
      "\u001b[1m801/801\u001b[0m \u001b[32m━━━━━━━━━━━━━━━━━━━━\u001b[0m\u001b[37m\u001b[0m \u001b[1m52s\u001b[0m 64ms/step - loss: 0.7574 - val_loss: 0.9347\n",
      "Epoch 24/100\n",
      "\u001b[1m801/801\u001b[0m \u001b[32m━━━━━━━━━━━━━━━━━━━━\u001b[0m\u001b[37m\u001b[0m \u001b[1m58s\u001b[0m 73ms/step - loss: 0.7574 - val_loss: 0.9341\n",
      "Epoch 25/100\n",
      "\u001b[1m801/801\u001b[0m \u001b[32m━━━━━━━━━━━━━━━━━━━━\u001b[0m\u001b[37m\u001b[0m \u001b[1m70s\u001b[0m 87ms/step - loss: 0.7585 - val_loss: 0.9337\n",
      "Epoch 26/100\n",
      "\u001b[1m801/801\u001b[0m \u001b[32m━━━━━━━━━━━━━━━━━━━━\u001b[0m\u001b[37m\u001b[0m \u001b[1m59s\u001b[0m 73ms/step - loss: 0.7583 - val_loss: 0.9335\n",
      "Epoch 27/100\n",
      "\u001b[1m801/801\u001b[0m \u001b[32m━━━━━━━━━━━━━━━━━━━━\u001b[0m\u001b[37m\u001b[0m \u001b[1m58s\u001b[0m 72ms/step - loss: 0.7587 - val_loss: 0.9331\n",
      "Epoch 28/100\n",
      "\u001b[1m801/801\u001b[0m \u001b[32m━━━━━━━━━━━━━━━━━━━━\u001b[0m\u001b[37m\u001b[0m \u001b[1m56s\u001b[0m 70ms/step - loss: 0.7565 - val_loss: 0.9329\n",
      "Epoch 29/100\n",
      "\u001b[1m801/801\u001b[0m \u001b[32m━━━━━━━━━━━━━━━━━━━━\u001b[0m\u001b[37m\u001b[0m \u001b[1m52s\u001b[0m 64ms/step - loss: 0.7576 - val_loss: 0.9327\n",
      "Epoch 30/100\n",
      "\u001b[1m801/801\u001b[0m \u001b[32m━━━━━━━━━━━━━━━━━━━━\u001b[0m\u001b[37m\u001b[0m \u001b[1m48s\u001b[0m 60ms/step - loss: 0.7563 - val_loss: 0.9324\n",
      "Epoch 31/100\n",
      "\u001b[1m801/801\u001b[0m \u001b[32m━━━━━━━━━━━━━━━━━━━━\u001b[0m\u001b[37m\u001b[0m \u001b[1m45s\u001b[0m 56ms/step - loss: 0.7554 - val_loss: 0.9323\n",
      "Epoch 32/100\n",
      "\u001b[1m801/801\u001b[0m \u001b[32m━━━━━━━━━━━━━━━━━━━━\u001b[0m\u001b[37m\u001b[0m \u001b[1m45s\u001b[0m 57ms/step - loss: 0.7564 - val_loss: 0.9321\n",
      "Epoch 33/100\n",
      "\u001b[1m801/801\u001b[0m \u001b[32m━━━━━━━━━━━━━━━━━━━━\u001b[0m\u001b[37m\u001b[0m \u001b[1m49s\u001b[0m 61ms/step - loss: 0.7581 - val_loss: 0.9320\n",
      "Epoch 34/100\n",
      "\u001b[1m801/801\u001b[0m \u001b[32m━━━━━━━━━━━━━━━━━━━━\u001b[0m\u001b[37m\u001b[0m \u001b[1m37s\u001b[0m 46ms/step - loss: 0.7554 - val_loss: 0.9318\n",
      "Epoch 35/100\n",
      "\u001b[1m801/801\u001b[0m \u001b[32m━━━━━━━━━━━━━━━━━━━━\u001b[0m\u001b[37m\u001b[0m \u001b[1m38s\u001b[0m 48ms/step - loss: 0.7570 - val_loss: 0.9317\n",
      "Epoch 36/100\n",
      "\u001b[1m801/801\u001b[0m \u001b[32m━━━━━━━━━━━━━━━━━━━━\u001b[0m\u001b[37m\u001b[0m \u001b[1m44s\u001b[0m 55ms/step - loss: 0.7572 - val_loss: 0.9317\n",
      "Epoch 37/100\n",
      "\u001b[1m801/801\u001b[0m \u001b[32m━━━━━━━━━━━━━━━━━━━━\u001b[0m\u001b[37m\u001b[0m \u001b[1m41s\u001b[0m 51ms/step - loss: 0.7564 - val_loss: 0.9315\n",
      "Epoch 38/100\n",
      "\u001b[1m801/801\u001b[0m \u001b[32m━━━━━━━━━━━━━━━━━━━━\u001b[0m\u001b[37m\u001b[0m \u001b[1m56s\u001b[0m 69ms/step - loss: 0.7556 - val_loss: 0.9314\n",
      "Epoch 39/100\n",
      "\u001b[1m801/801\u001b[0m \u001b[32m━━━━━━━━━━━━━━━━━━━━\u001b[0m\u001b[37m\u001b[0m \u001b[1m56s\u001b[0m 69ms/step - loss: 0.7571 - val_loss: 0.9313\n",
      "Epoch 40/100\n",
      "\u001b[1m801/801\u001b[0m \u001b[32m━━━━━━━━━━━━━━━━━━━━\u001b[0m\u001b[37m\u001b[0m \u001b[1m55s\u001b[0m 69ms/step - loss: 0.7563 - val_loss: 0.9313\n",
      "Epoch 41/100\n",
      "\u001b[1m801/801\u001b[0m \u001b[32m━━━━━━━━━━━━━━━━━━━━\u001b[0m\u001b[37m\u001b[0m \u001b[1m52s\u001b[0m 65ms/step - loss: 0.7548 - val_loss: 0.9312\n",
      "Epoch 42/100\n",
      "\u001b[1m801/801\u001b[0m \u001b[32m━━━━━━━━━━━━━━━━━━━━\u001b[0m\u001b[37m\u001b[0m \u001b[1m55s\u001b[0m 69ms/step - loss: 0.7552 - val_loss: 0.9311\n",
      "Epoch 43/100\n",
      "\u001b[1m801/801\u001b[0m \u001b[32m━━━━━━━━━━━━━━━━━━━━\u001b[0m\u001b[37m\u001b[0m \u001b[1m53s\u001b[0m 66ms/step - loss: 0.7566 - val_loss: 0.9311\n",
      "Epoch 44/100\n",
      "\u001b[1m801/801\u001b[0m \u001b[32m━━━━━━━━━━━━━━━━━━━━\u001b[0m\u001b[37m\u001b[0m \u001b[1m55s\u001b[0m 68ms/step - loss: 0.7557 - val_loss: 0.9310\n",
      "Epoch 45/100\n",
      "\u001b[1m801/801\u001b[0m \u001b[32m━━━━━━━━━━━━━━━━━━━━\u001b[0m\u001b[37m\u001b[0m \u001b[1m80s\u001b[0m 66ms/step - loss: 0.7543 - val_loss: 0.9309\n",
      "Epoch 46/100\n",
      "\u001b[1m801/801\u001b[0m \u001b[32m━━━━━━━━━━━━━━━━━━━━\u001b[0m\u001b[37m\u001b[0m \u001b[1m57s\u001b[0m 71ms/step - loss: 0.7560 - val_loss: 0.9308\n",
      "Epoch 47/100\n",
      "\u001b[1m801/801\u001b[0m \u001b[32m━━━━━━━━━━━━━━━━━━━━\u001b[0m\u001b[37m\u001b[0m \u001b[1m60s\u001b[0m 75ms/step - loss: 0.7549 - val_loss: 0.9308\n",
      "Epoch 48/100\n",
      "\u001b[1m801/801\u001b[0m \u001b[32m━━━━━━━━━━━━━━━━━━━━\u001b[0m\u001b[37m\u001b[0m \u001b[1m55s\u001b[0m 69ms/step - loss: 0.7554 - val_loss: 0.9307\n",
      "Epoch 49/100\n",
      "\u001b[1m801/801\u001b[0m \u001b[32m━━━━━━━━━━━━━━━━━━━━\u001b[0m\u001b[37m\u001b[0m \u001b[1m53s\u001b[0m 66ms/step - loss: 0.7565 - val_loss: 0.9307\n",
      "Epoch 50/100\n",
      "\u001b[1m801/801\u001b[0m \u001b[32m━━━━━━━━━━━━━━━━━━━━\u001b[0m\u001b[37m\u001b[0m \u001b[1m55s\u001b[0m 69ms/step - loss: 0.7553 - val_loss: 0.9306\n",
      "Epoch 51/100\n",
      "\u001b[1m801/801\u001b[0m \u001b[32m━━━━━━━━━━━━━━━━━━━━\u001b[0m\u001b[37m\u001b[0m \u001b[1m54s\u001b[0m 67ms/step - loss: 0.7545 - val_loss: 0.9305\n",
      "Epoch 52/100\n",
      "\u001b[1m801/801\u001b[0m \u001b[32m━━━━━━━━━━━━━━━━━━━━\u001b[0m\u001b[37m\u001b[0m \u001b[1m52s\u001b[0m 64ms/step - loss: 0.7561 - val_loss: 0.9305\n",
      "Epoch 53/100\n",
      "\u001b[1m801/801\u001b[0m \u001b[32m━━━━━━━━━━━━━━━━━━━━\u001b[0m\u001b[37m\u001b[0m \u001b[1m53s\u001b[0m 66ms/step - loss: 0.7528 - val_loss: 0.9304\n",
      "Epoch 54/100\n",
      "\u001b[1m801/801\u001b[0m \u001b[32m━━━━━━━━━━━━━━━━━━━━\u001b[0m\u001b[37m\u001b[0m \u001b[1m57s\u001b[0m 71ms/step - loss: 0.7541 - val_loss: 0.9304\n",
      "Epoch 55/100\n",
      "\u001b[1m801/801\u001b[0m \u001b[32m━━━━━━━━━━━━━━━━━━━━\u001b[0m\u001b[37m\u001b[0m \u001b[1m37s\u001b[0m 47ms/step - loss: 0.7552 - val_loss: 0.9303\n",
      "Epoch 56/100\n",
      "\u001b[1m801/801\u001b[0m \u001b[32m━━━━━━━━━━━━━━━━━━━━\u001b[0m\u001b[37m\u001b[0m \u001b[1m31s\u001b[0m 38ms/step - loss: 0.7550 - val_loss: 0.9302\n",
      "Epoch 57/100\n",
      "\u001b[1m801/801\u001b[0m \u001b[32m━━━━━━━━━━━━━━━━━━━━\u001b[0m\u001b[37m\u001b[0m \u001b[1m31s\u001b[0m 38ms/step - loss: 0.7548 - val_loss: 0.9302\n",
      "Epoch 58/100\n",
      "\u001b[1m801/801\u001b[0m \u001b[32m━━━━━━━━━━━━━━━━━━━━\u001b[0m\u001b[37m\u001b[0m \u001b[1m30s\u001b[0m 37ms/step - loss: 0.7533 - val_loss: 0.9301\n",
      "Epoch 59/100\n",
      "\u001b[1m801/801\u001b[0m \u001b[32m━━━━━━━━━━━━━━━━━━━━\u001b[0m\u001b[37m\u001b[0m \u001b[1m27s\u001b[0m 33ms/step - loss: 0.7550 - val_loss: 0.9300\n",
      "Epoch 60/100\n",
      "\u001b[1m801/801\u001b[0m \u001b[32m━━━━━━━━━━━━━━━━━━━━\u001b[0m\u001b[37m\u001b[0m \u001b[1m31s\u001b[0m 39ms/step - loss: 0.7559 - val_loss: 0.9300\n",
      "Epoch 61/100\n",
      "\u001b[1m801/801\u001b[0m \u001b[32m━━━━━━━━━━━━━━━━━━━━\u001b[0m\u001b[37m\u001b[0m \u001b[1m31s\u001b[0m 38ms/step - loss: 0.7535 - val_loss: 0.9299\n",
      "Epoch 62/100\n",
      "\u001b[1m801/801\u001b[0m \u001b[32m━━━━━━━━━━━━━━━━━━━━\u001b[0m\u001b[37m\u001b[0m \u001b[1m28s\u001b[0m 35ms/step - loss: 0.7544 - val_loss: 0.9299\n",
      "Epoch 63/100\n",
      "\u001b[1m801/801\u001b[0m \u001b[32m━━━━━━━━━━━━━━━━━━━━\u001b[0m\u001b[37m\u001b[0m \u001b[1m30s\u001b[0m 38ms/step - loss: 0.7540 - val_loss: 0.9299\n",
      "Epoch 64/100\n",
      "\u001b[1m801/801\u001b[0m \u001b[32m━━━━━━━━━━━━━━━━━━━━\u001b[0m\u001b[37m\u001b[0m \u001b[1m33s\u001b[0m 42ms/step - loss: 0.7532 - val_loss: 0.9298\n",
      "Epoch 65/100\n",
      "\u001b[1m801/801\u001b[0m \u001b[32m━━━━━━━━━━━━━━━━━━━━\u001b[0m\u001b[37m\u001b[0m \u001b[1m39s\u001b[0m 49ms/step - loss: 0.7550 - val_loss: 0.9298\n",
      "Epoch 66/100\n",
      "\u001b[1m801/801\u001b[0m \u001b[32m━━━━━━━━━━━━━━━━━━━━\u001b[0m\u001b[37m\u001b[0m \u001b[1m38s\u001b[0m 48ms/step - loss: 0.7532 - val_loss: 0.9297\n",
      "Epoch 67/100\n",
      "\u001b[1m801/801\u001b[0m \u001b[32m━━━━━━━━━━━━━━━━━━━━\u001b[0m\u001b[37m\u001b[0m \u001b[1m37s\u001b[0m 47ms/step - loss: 0.7545 - val_loss: 0.9297\n",
      "Epoch 68/100\n",
      "\u001b[1m801/801\u001b[0m \u001b[32m━━━━━━━━━━━━━━━━━━━━\u001b[0m\u001b[37m\u001b[0m \u001b[1m36s\u001b[0m 45ms/step - loss: 0.7548 - val_loss: 0.9296\n",
      "Epoch 69/100\n",
      "\u001b[1m801/801\u001b[0m \u001b[32m━━━━━━━━━━━━━━━━━━━━\u001b[0m\u001b[37m\u001b[0m \u001b[1m34s\u001b[0m 42ms/step - loss: 0.7542 - val_loss: 0.9296\n",
      "Epoch 70/100\n",
      "\u001b[1m801/801\u001b[0m \u001b[32m━━━━━━━━━━━━━━━━━━━━\u001b[0m\u001b[37m\u001b[0m \u001b[1m39s\u001b[0m 49ms/step - loss: 0.7550 - val_loss: 0.9296\n",
      "Epoch 71/100\n",
      "\u001b[1m801/801\u001b[0m \u001b[32m━━━━━━━━━━━━━━━━━━━━\u001b[0m\u001b[37m\u001b[0m \u001b[1m38s\u001b[0m 48ms/step - loss: 0.7558 - val_loss: 0.9296\n",
      "Epoch 72/100\n",
      "\u001b[1m801/801\u001b[0m \u001b[32m━━━━━━━━━━━━━━━━━━━━\u001b[0m\u001b[37m\u001b[0m \u001b[1m42s\u001b[0m 52ms/step - loss: 0.7544 - val_loss: 0.9295\n",
      "Epoch 73/100\n",
      "\u001b[1m801/801\u001b[0m \u001b[32m━━━━━━━━━━━━━━━━━━━━\u001b[0m\u001b[37m\u001b[0m \u001b[1m54s\u001b[0m 68ms/step - loss: 0.7549 - val_loss: 0.9295\n",
      "Epoch 74/100\n",
      "\u001b[1m801/801\u001b[0m \u001b[32m━━━━━━━━━━━━━━━━━━━━\u001b[0m\u001b[37m\u001b[0m \u001b[1m52s\u001b[0m 65ms/step - loss: 0.7547 - val_loss: 0.9295\n",
      "Epoch 75/100\n",
      "\u001b[1m801/801\u001b[0m \u001b[32m━━━━━━━━━━━━━━━━━━━━\u001b[0m\u001b[37m\u001b[0m \u001b[1m60s\u001b[0m 74ms/step - loss: 0.7567 - val_loss: 0.9294\n",
      "Epoch 76/100\n",
      "\u001b[1m801/801\u001b[0m \u001b[32m━━━━━━━━━━━━━━━━━━━━\u001b[0m\u001b[37m\u001b[0m \u001b[1m54s\u001b[0m 67ms/step - loss: 0.7531 - val_loss: 0.9294\n",
      "Epoch 77/100\n",
      "\u001b[1m801/801\u001b[0m \u001b[32m━━━━━━━━━━━━━━━━━━━━\u001b[0m\u001b[37m\u001b[0m \u001b[1m57s\u001b[0m 71ms/step - loss: 0.7543 - val_loss: 0.9294\n",
      "Epoch 78/100\n",
      "\u001b[1m801/801\u001b[0m \u001b[32m━━━━━━━━━━━━━━━━━━━━\u001b[0m\u001b[37m\u001b[0m \u001b[1m55s\u001b[0m 68ms/step - loss: 0.7545 - val_loss: 0.9293\n",
      "Epoch 79/100\n",
      "\u001b[1m801/801\u001b[0m \u001b[32m━━━━━━━━━━━━━━━━━━━━\u001b[0m\u001b[37m\u001b[0m \u001b[1m53s\u001b[0m 66ms/step - loss: 0.7533 - val_loss: 0.9293\n",
      "Epoch 80/100\n",
      "\u001b[1m801/801\u001b[0m \u001b[32m━━━━━━━━━━━━━━━━━━━━\u001b[0m\u001b[37m\u001b[0m \u001b[1m53s\u001b[0m 66ms/step - loss: 0.7531 - val_loss: 0.9293\n",
      "Epoch 81/100\n",
      "\u001b[1m801/801\u001b[0m \u001b[32m━━━━━━━━━━━━━━━━━━━━\u001b[0m\u001b[37m\u001b[0m \u001b[1m55s\u001b[0m 69ms/step - loss: 0.7546 - val_loss: 0.9293\n",
      "Epoch 82/100\n",
      "\u001b[1m801/801\u001b[0m \u001b[32m━━━━━━━━━━━━━━━━━━━━\u001b[0m\u001b[37m\u001b[0m \u001b[1m56s\u001b[0m 69ms/step - loss: 0.7553 - val_loss: 0.9292\n",
      "Epoch 83/100\n",
      "\u001b[1m801/801\u001b[0m \u001b[32m━━━━━━━━━━━━━━━━━━━━\u001b[0m\u001b[37m\u001b[0m \u001b[1m54s\u001b[0m 67ms/step - loss: 0.7531 - val_loss: 0.9292\n",
      "Epoch 84/100\n",
      "\u001b[1m801/801\u001b[0m \u001b[32m━━━━━━━━━━━━━━━━━━━━\u001b[0m\u001b[37m\u001b[0m \u001b[1m55s\u001b[0m 68ms/step - loss: 0.7534 - val_loss: 0.9292\n",
      "Epoch 85/100\n",
      "\u001b[1m801/801\u001b[0m \u001b[32m━━━━━━━━━━━━━━━━━━━━\u001b[0m\u001b[37m\u001b[0m \u001b[1m53s\u001b[0m 67ms/step - loss: 0.7542 - val_loss: 0.9292\n",
      "Epoch 86/100\n",
      "\u001b[1m801/801\u001b[0m \u001b[32m━━━━━━━━━━━━━━━━━━━━\u001b[0m\u001b[37m\u001b[0m \u001b[1m53s\u001b[0m 66ms/step - loss: 0.7542 - val_loss: 0.9292\n",
      "Epoch 87/100\n",
      "\u001b[1m801/801\u001b[0m \u001b[32m━━━━━━━━━━━━━━━━━━━━\u001b[0m\u001b[37m\u001b[0m \u001b[1m56s\u001b[0m 70ms/step - loss: 0.7550 - val_loss: 0.9291\n",
      "Epoch 88/100\n",
      "\u001b[1m801/801\u001b[0m \u001b[32m━━━━━━━━━━━━━━━━━━━━\u001b[0m\u001b[37m\u001b[0m \u001b[1m53s\u001b[0m 66ms/step - loss: 0.7547 - val_loss: 0.9291\n",
      "Epoch 89/100\n",
      "\u001b[1m801/801\u001b[0m \u001b[32m━━━━━━━━━━━━━━━━━━━━\u001b[0m\u001b[37m\u001b[0m \u001b[1m53s\u001b[0m 67ms/step - loss: 0.7536 - val_loss: 0.9291\n",
      "Epoch 90/100\n",
      "\u001b[1m801/801\u001b[0m \u001b[32m━━━━━━━━━━━━━━━━━━━━\u001b[0m\u001b[37m\u001b[0m \u001b[1m51s\u001b[0m 64ms/step - loss: 0.7530 - val_loss: 0.9291\n",
      "Epoch 91/100\n",
      "\u001b[1m801/801\u001b[0m \u001b[32m━━━━━━━━━━━━━━━━━━━━\u001b[0m\u001b[37m\u001b[0m \u001b[1m52s\u001b[0m 65ms/step - loss: 0.7526 - val_loss: 0.9291\n",
      "Epoch 92/100\n",
      "\u001b[1m801/801\u001b[0m \u001b[32m━━━━━━━━━━━━━━━━━━━━\u001b[0m\u001b[37m\u001b[0m \u001b[1m56s\u001b[0m 70ms/step - loss: 0.7531 - val_loss: 0.9291\n",
      "Epoch 93/100\n",
      "\u001b[1m801/801\u001b[0m \u001b[32m━━━━━━━━━━━━━━━━━━━━\u001b[0m\u001b[37m\u001b[0m \u001b[1m40s\u001b[0m 50ms/step - loss: 0.7531 - val_loss: 0.9290\n",
      "Epoch 94/100\n",
      "\u001b[1m801/801\u001b[0m \u001b[32m━━━━━━━━━━━━━━━━━━━━\u001b[0m\u001b[37m\u001b[0m \u001b[1m40s\u001b[0m 50ms/step - loss: 0.7538 - val_loss: 0.9290\n",
      "Epoch 95/100\n",
      "\u001b[1m801/801\u001b[0m \u001b[32m━━━━━━━━━━━━━━━━━━━━\u001b[0m\u001b[37m\u001b[0m \u001b[1m40s\u001b[0m 49ms/step - loss: 0.7532 - val_loss: 0.9290\n",
      "Epoch 96/100\n",
      "\u001b[1m801/801\u001b[0m \u001b[32m━━━━━━━━━━━━━━━━━━━━\u001b[0m\u001b[37m\u001b[0m \u001b[1m39s\u001b[0m 48ms/step - loss: 0.7545 - val_loss: 0.9290\n",
      "Epoch 97/100\n",
      "\u001b[1m801/801\u001b[0m \u001b[32m━━━━━━━━━━━━━━━━━━━━\u001b[0m\u001b[37m\u001b[0m \u001b[1m41s\u001b[0m 51ms/step - loss: 0.7550 - val_loss: 0.9290\n",
      "Epoch 98/100\n",
      "\u001b[1m801/801\u001b[0m \u001b[32m━━━━━━━━━━━━━━━━━━━━\u001b[0m\u001b[37m\u001b[0m \u001b[1m39s\u001b[0m 49ms/step - loss: 0.7539 - val_loss: 0.9290\n",
      "Epoch 99/100\n",
      "\u001b[1m801/801\u001b[0m \u001b[32m━━━━━━━━━━━━━━━━━━━━\u001b[0m\u001b[37m\u001b[0m \u001b[1m39s\u001b[0m 48ms/step - loss: 0.7545 - val_loss: 0.9290\n",
      "Epoch 100/100\n",
      "\u001b[1m801/801\u001b[0m \u001b[32m━━━━━━━━━━━━━━━━━━━━\u001b[0m\u001b[37m\u001b[0m \u001b[1m39s\u001b[0m 49ms/step - loss: 0.7536 - val_loss: 0.9289\n"
     ]
    }
   ],
   "source": [
    "model = Sequential()\n",
    "model.add(L.Input(shape=(timesteps, n_features)))\n",
    "\n",
    "# Encoder\n",
    "model.add(L.LSTM(24, activation='relu', input_shape=(timesteps, n_features), return_sequences=True))\n",
    "model.add(L.LSTM(6, activation='relu', return_sequences=False))\n",
    "model.add(L.RepeatVector(timesteps))\n",
    "\n",
    "# Decoder\n",
    "model.add(L.LSTM(6, activation='relu', return_sequences=True))\n",
    "model.add(L.LSTM(24, activation='relu', return_sequences=True))\n",
    "model.add(L.TimeDistributed(L.Dense(1, activation='linear')))\n",
    "model.summary()\n",
    "\n",
    "model.compile(optimizer=Adam(0.0001), loss='mse')\n",
    "\n",
    "lstm_autoencoder = model.fit(X_train, X_train, \n",
    "                                              batch_size=128,\n",
    "                                              epochs=50, \n",
    "                                              verbose=1)"
   ]
  },
  {
   "cell_type": "code",
   "execution_count": 14,
   "metadata": {},
   "outputs": [
    {
     "data": {
      "text/plain": [
       "[<LSTM name=lstm, built=True>,\n",
       " <LSTM name=lstm_1, built=True>,\n",
       " <RepeatVector name=repeat_vector, built=True>,\n",
       " <LSTM name=lstm_2, built=True>,\n",
       " <LSTM name=lstm_3, built=True>,\n",
       " <TimeDistributed name=time_distributed, built=True>]"
      ]
     },
     "execution_count": 14,
     "metadata": {},
     "output_type": "execute_result"
    }
   ],
   "source": [
    "rpt_vector_layer = Model(inputs=model.inputs, outputs=model.layers[3].output)\n",
    "time_dist_layer = Model(inputs=model.inputs, outputs=model.layers[5].output)\n",
    "model.layers"
   ]
  },
  {
   "cell_type": "code",
   "execution_count": 15,
   "metadata": {},
   "outputs": [],
   "source": [
    "encoder = Model(inputs=model.inputs, outputs=model.layers[2].output)"
   ]
  },
  {
   "cell_type": "code",
   "execution_count": 16,
   "metadata": {},
   "outputs": [
    {
     "name": "stdout",
     "output_type": "stream",
     "text": [
      "\u001b[1m3204/3204\u001b[0m \u001b[32m━━━━━━━━━━━━━━━━━━━━\u001b[0m\u001b[37m\u001b[0m \u001b[1m12s\u001b[0m 4ms/step\n",
      "\u001b[1m356/356\u001b[0m \u001b[32m━━━━━━━━━━━━━━━━━━━━\u001b[0m\u001b[37m\u001b[0m \u001b[1m2s\u001b[0m 4ms/step\n",
      "Encoded time-series shape (102527, 24, 6)\n",
      "Encoded time-series sample [[9.235951   5.0324807  1.4281957  2.806819   0.6712399  0.85642487]\n",
      " [9.235951   5.0324807  1.4281957  2.806819   0.6712399  0.85642487]\n",
      " [9.235951   5.0324807  1.4281957  2.806819   0.6712399  0.85642487]\n",
      " [9.235951   5.0324807  1.4281957  2.806819   0.6712399  0.85642487]\n",
      " [9.235951   5.0324807  1.4281957  2.806819   0.6712399  0.85642487]\n",
      " [9.235951   5.0324807  1.4281957  2.806819   0.6712399  0.85642487]\n",
      " [9.235951   5.0324807  1.4281957  2.806819   0.6712399  0.85642487]\n",
      " [9.235951   5.0324807  1.4281957  2.806819   0.6712399  0.85642487]\n",
      " [9.235951   5.0324807  1.4281957  2.806819   0.6712399  0.85642487]\n",
      " [9.235951   5.0324807  1.4281957  2.806819   0.6712399  0.85642487]\n",
      " [9.235951   5.0324807  1.4281957  2.806819   0.6712399  0.85642487]\n",
      " [9.235951   5.0324807  1.4281957  2.806819   0.6712399  0.85642487]\n",
      " [9.235951   5.0324807  1.4281957  2.806819   0.6712399  0.85642487]\n",
      " [9.235951   5.0324807  1.4281957  2.806819   0.6712399  0.85642487]\n",
      " [9.235951   5.0324807  1.4281957  2.806819   0.6712399  0.85642487]\n",
      " [9.235951   5.0324807  1.4281957  2.806819   0.6712399  0.85642487]\n",
      " [9.235951   5.0324807  1.4281957  2.806819   0.6712399  0.85642487]\n",
      " [9.235951   5.0324807  1.4281957  2.806819   0.6712399  0.85642487]\n",
      " [9.235951   5.0324807  1.4281957  2.806819   0.6712399  0.85642487]\n",
      " [9.235951   5.0324807  1.4281957  2.806819   0.6712399  0.85642487]\n",
      " [9.235951   5.0324807  1.4281957  2.806819   0.6712399  0.85642487]\n",
      " [9.235951   5.0324807  1.4281957  2.806819   0.6712399  0.85642487]\n",
      " [9.235951   5.0324807  1.4281957  2.806819   0.6712399  0.85642487]\n",
      " [9.235951   5.0324807  1.4281957  2.806819   0.6712399  0.85642487]]\n"
     ]
    }
   ],
   "source": [
    "train_encoded = encoder.predict(X_train)\n",
    "validation_encoded = encoder.predict(X_valid)\n",
    "print('Encoded time-series shape', train_encoded.shape)\n",
    "print('Encoded time-series sample', train_encoded[0])"
   ]
  },
  {
   "cell_type": "code",
   "execution_count": null,
   "metadata": {},
   "outputs": [],
   "source": [
    "# X_train['encoded'] = train_encoded\n",
    "# X_train['label'] = y_train\n",
    "\n",
    "# X_valid['encoded'] = validation_encoded\n",
    "# X_valid['label'] = y_valid\n",
    "\n",
    "# X_train.head(10)"
   ]
  },
  {
   "cell_type": "code",
   "execution_count": 11,
   "metadata": {},
   "outputs": [],
   "source": [
    "# class LSTMautoencoder(HyperModel):\n",
    "#     def __init__(self, timesteps, n_features):\n",
    "#         self.timesteps = timesteps\n",
    "#         self.n_features = n_features\n",
    "    \n",
    "#     def build(self, hp):\n",
    "#         model = Sequential()\n",
    "#         model.add(L.Input(shape=(self.timesteps, self.n_features)))\n",
    "#         # Encoder\n",
    "#         model.add(L.LSTM(hp.Int('encoder_lstm_1_units', min_value=64, max_value=256, step=32),\n",
    "#                         activation='relu',\n",
    "#                         input_shape=(self.timesteps, self.n_features),\n",
    "#                         return_sequences=True))\n",
    "#         model.add(L.LSTM(hp.Int('encoder_lstm_2_units', min_value=32, max_value=128, step=32),\n",
    "#                         activation='relu',\n",
    "#                         return_sequences=False))\n",
    "#         model.add(L.RepeatVector(self.timesteps))\n",
    "#         # Decoder\n",
    "#         model.add(L.LSTM(hp.Int('decoder_lstm_1_units', min_value=32, max_value=128, step=32),\n",
    "#                         activation='relu',\n",
    "#                         return_sequences=True))\n",
    "#         model.add(L.LSTM(hp.Int('decoder_lstm_2_units', min_value=64, max_value=256, step=32),\n",
    "#                         activation='relu',\n",
    "#                         return_sequences=True))\n",
    "#         model.add(L.TimeDistributed(L.Dense(1, activation='linear')))\n",
    "        \n",
    "#         model.compile(optimizer=Adam(\n",
    "#                         hp.Float('learning_rate', min_value=1e-4, max_value=1e-2, sampling='LOG')),\n",
    "#                     loss='mse')\n",
    "#         return model"
   ]
  },
  {
   "cell_type": "code",
   "execution_count": 11,
   "metadata": {},
   "outputs": [],
   "source": [
    "# hypermodel = LSTMautoencoder(timesteps=timesteps, n_features=n_features)"
   ]
  },
  {
   "cell_type": "code",
   "execution_count": 12,
   "metadata": {},
   "outputs": [],
   "source": [
    "# tuner = Hyperband(\n",
    "#         hypermodel,\n",
    "#         objective='val_loss',\n",
    "#         max_epochs=40,\n",
    "#         hyperband_iterations=2,\n",
    "#         factor=3,\n",
    "#         directory=f'{modelpath}/keras_tuner',\n",
    "#         project_name='lstm_autoencoder'\n",
    "#     )"
   ]
  },
  {
   "cell_type": "code",
   "execution_count": null,
   "metadata": {},
   "outputs": [],
   "source": [
    "# early_stopping = EarlyStopping(monitor='val_loss', patience=4, restore_best_weights=True)\n",
    "\n",
    "# tuner.search(\n",
    "#         x=X_train,\n",
    "#         y=X_train,\n",
    "#         epochs=50,\n",
    "#         batch_size=128,\n",
    "#         callbacks=[early_stopping],\n",
    "#         validation_data=(X_valid, X_valid),\n",
    "#         verbose=1\n",
    "#     )"
   ]
  },
  {
   "cell_type": "code",
   "execution_count": null,
   "metadata": {},
   "outputs": [],
   "source": [
    "# best_model = tuner.get_best_models(num_models=1)[0]\n",
    "# best_hyperparameters = tuner.get_best_hyperparameters(num_trials=1)[0]\n",
    "\n",
    "# best_model.save(f'{modelpath}/lstmautoencoder.h5')\n",
    "\n",
    "# with open(f'{modelpath}/hyperparameters_lstmautoencoder.pkl', 'wb') as f:\n",
    "#         pickle.dump(best_hyperparameters, f)"
   ]
  },
  {
   "cell_type": "code",
   "execution_count": null,
   "metadata": {},
   "outputs": [],
   "source": [
    "# plt.plot(history.history['loss'], label='Train Loss')\n",
    "# plt.title('Model Loss')\n",
    "# plt.ylabel('Loss')\n",
    "# plt.xlabel('Epoch')\n",
    "# plt.legend()\n",
    "# plt.show()"
   ]
  }
 ],
 "metadata": {
  "kernelspec": {
   "display_name": "base",
   "language": "python",
   "name": "python3"
  },
  "language_info": {
   "codemirror_mode": {
    "name": "ipython",
    "version": 3
   },
   "file_extension": ".py",
   "mimetype": "text/x-python",
   "name": "python",
   "nbconvert_exporter": "python",
   "pygments_lexer": "ipython3",
   "version": "3.11.4"
  }
 },
 "nbformat": 4,
 "nbformat_minor": 2
}
